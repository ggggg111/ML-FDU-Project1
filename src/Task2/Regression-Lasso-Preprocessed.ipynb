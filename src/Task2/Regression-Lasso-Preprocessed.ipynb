{
 "cells": [
  {
   "cell_type": "code",
   "execution_count": 1,
   "id": "dbe7fdb6",
   "metadata": {},
   "outputs": [],
   "source": [
    "# Import libraries\n",
    "import numpy as np\n",
    "from sklearn import preprocessing\n",
    "from sklearn.linear_model import Lasso\n",
    "from sklearn.multioutput import MultiOutputRegressor"
   ]
  },
  {
   "cell_type": "code",
   "execution_count": 2,
   "id": "09b6b354",
   "metadata": {},
   "outputs": [],
   "source": [
    "# Define util to load .npy files\n",
    "class Utils:\n",
    "    @staticmethod\n",
    "    def load_npy(path, preprocess=False):\n",
    "        if preprocess:\n",
    "            # Standardization of the data\n",
    "            npy_data = np.load(path)\n",
    "            scaler = preprocessing.StandardScaler().fit(npy_data)\n",
    "            preprocessed_data = scaler.transform(npy_data)\n",
    "            print(f\"Mean: {preprocessed_data.mean(axis=0)} Standard deviation: {preprocessed_data.std(axis=0)}\")\n",
    "            return preprocessed_data\n",
    "        else:\n",
    "            return np.load(path)"
   ]
  },
  {
   "cell_type": "code",
   "execution_count": 3,
   "id": "6080dec7",
   "metadata": {},
   "outputs": [
    {
     "name": "stdout",
     "output_type": "stream",
     "text": [
      "Mean: [-5.67566069e-15  2.37129827e-15 -2.25004104e-16 ... -1.35894422e-14\n",
      " -4.40751553e-15  1.24865357e-14] Standard deviation: [1. 1. 1. ... 1. 1. 1.]\n",
      "Mean: [ 1.33062529e-15  1.43343588e-15 -8.49747623e-16 ... -5.83285372e-16\n",
      " -5.39614478e-15  1.49145160e-15] Standard deviation: [1. 1. 1. ... 1. 1. 1.]\n"
     ]
    }
   ],
   "source": [
    "# Load dataset separately\n",
    "train_X = Utils.load_npy(\"workdir/x_train_PE.npy\", preprocess=True)\n",
    "train_y = Utils.load_npy(\"workdir/y_train_PE.npy\")\n",
    "\n",
    "test_X = Utils.load_npy(\"workdir/x_test_PE.npy\", preprocess=True)\n",
    "test_y = Utils.load_npy(\"workdir/y_test_PE.npy\")"
   ]
  },
  {
   "cell_type": "code",
   "execution_count": 4,
   "id": "7c5e77da",
   "metadata": {},
   "outputs": [],
   "source": [
    "# The metric for this task is Mean Absolute Error\n",
    "class Metrics:\n",
    "    @staticmethod\n",
    "    def mae(y_pred, y_true):\n",
    "        return np.mean( np.abs( np.subtract(y_pred, y_true) ) )"
   ]
  },
  {
   "cell_type": "code",
   "execution_count": 5,
   "id": "f447504c",
   "metadata": {},
   "outputs": [],
   "source": [
    "# Declare a multi-class regressor using lasso regression\n",
    "regressor = MultiOutputRegressor( Lasso(alpha=0.1) )"
   ]
  },
  {
   "cell_type": "code",
   "execution_count": 6,
   "id": "39ea512c",
   "metadata": {},
   "outputs": [
    {
     "data": {
      "text/plain": [
       "MultiOutputRegressor(estimator=Lasso(alpha=0.1))"
      ]
     },
     "execution_count": 6,
     "metadata": {},
     "output_type": "execute_result"
    }
   ],
   "source": [
    "# Train the regressor\n",
    "regressor.fit(train_X, train_y)"
   ]
  },
  {
   "cell_type": "code",
   "execution_count": 7,
   "id": "5b23ecfb",
   "metadata": {},
   "outputs": [],
   "source": [
    "# Get the predictions\n",
    "predictions = regressor.predict(test_X)"
   ]
  },
  {
   "cell_type": "code",
   "execution_count": 8,
   "id": "c47821b9",
   "metadata": {},
   "outputs": [
    {
     "name": "stdout",
     "output_type": "stream",
     "text": [
      "MAE: 0.1324985001303975\n"
     ]
    }
   ],
   "source": [
    "# Calculate Mean Absolute Error\n",
    "mae = Metrics.mae(np.array(predictions), test_y)\n",
    "print(\"MAE:\", mae)"
   ]
  }
 ],
 "metadata": {
  "kernelspec": {
   "display_name": "Python 3 (ipykernel)",
   "language": "python",
   "name": "python3"
  },
  "language_info": {
   "codemirror_mode": {
    "name": "ipython",
    "version": 3
   },
   "file_extension": ".py",
   "mimetype": "text/x-python",
   "name": "python",
   "nbconvert_exporter": "python",
   "pygments_lexer": "ipython3",
   "version": "3.7.11"
  }
 },
 "nbformat": 4,
 "nbformat_minor": 5
}
