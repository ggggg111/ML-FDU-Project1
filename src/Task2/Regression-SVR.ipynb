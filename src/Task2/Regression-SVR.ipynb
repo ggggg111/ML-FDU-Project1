{
 "cells": [
  {
   "cell_type": "code",
   "execution_count": 1,
   "id": "dbe7fdb6",
   "metadata": {},
   "outputs": [],
   "source": [
    "# Import libraries\n",
    "import numpy as np\n",
    "from sklearn.svm import SVR"
   ]
  },
  {
   "cell_type": "code",
   "execution_count": 2,
   "id": "6080dec7",
   "metadata": {},
   "outputs": [],
   "source": [
    "# Load dataset separately\n",
    "train_X = np.load(\"workdir/x_train_PE.npy\")\n",
    "train_y = np.load(\"workdir/y_train_PE.npy\")\n",
    "\n",
    "test_X = np.load(\"workdir/x_test_PE.npy\")\n",
    "test_y = np.load(\"workdir/y_test_PE.npy\")"
   ]
  },
  {
   "cell_type": "code",
   "execution_count": 3,
   "id": "7c5e77da",
   "metadata": {},
   "outputs": [],
   "source": [
    "# The metric for this task is Mean Absolute Error\n",
    "class Metrics:\n",
    "    @staticmethod\n",
    "    def mae(y_pred, y_true):\n",
    "        return np.mean( np.abs( np.subtract(y_pred, y_true) ) )"
   ]
  },
  {
   "cell_type": "code",
   "execution_count": 4,
   "id": "cc374c60",
   "metadata": {},
   "outputs": [],
   "source": [
    "# Declare different SVR types\n",
    "y_dimension = np.shape(train_y[1])[0]\n",
    "svr_linear = [SVR(kernel=\"linear\", C=100, gamma=\"auto\") for _ in range(y_dimension)]\n",
    "svr_polynomial = [SVR(kernel=\"poly\", C=100, gamma=\"auto\", degree=2, epsilon=0.1, coef0=1) for _ in range(y_dimension)]\n",
    "svr_rbf = [SVR(kernel=\"rbf\", C=100, gamma=0.1, epsilon=0.1) for _ in range(y_dimension)]"
   ]
  },
  {
   "cell_type": "code",
   "execution_count": 5,
   "id": "9b1f23cc",
   "metadata": {},
   "outputs": [],
   "source": [
    "# Train each SVRs\n",
    "for index in range(y_dimension):\n",
    "    svr_linear[index].fit(train_X, train_y[:, index])\n",
    "    svr_polynomial[index].fit(train_X, train_y[:, index])\n",
    "    svr_rbf[index].fit(train_X, train_y[:, index])"
   ]
  },
  {
   "cell_type": "code",
   "execution_count": 6,
   "id": "58be3c78",
   "metadata": {},
   "outputs": [],
   "source": [
    "# Get the predictions for each SVR\n",
    "svr_linear_pred = []\n",
    "svr_polynomial_pred = []\n",
    "svr_rbf_pred = []\n",
    "for index in range(y_dimension):\n",
    "    svr_linear_pred.append( svr_linear[index].predict(test_X) )\n",
    "    svr_polynomial_pred.append( svr_polynomial[index].predict(test_X) )\n",
    "    svr_rbf_pred.append( svr_rbf[index].predict(test_X) )"
   ]
  },
  {
   "cell_type": "code",
   "execution_count": 7,
   "id": "c47821b9",
   "metadata": {},
   "outputs": [
    {
     "name": "stdout",
     "output_type": "stream",
     "text": [
      "MAE (linear SVR): 0.03561020616460166\n"
     ]
    }
   ],
   "source": [
    "# Calculate Mean Absolute Error for linear SVR\n",
    "svr_linear_mae = Metrics.mae(np.array(svr_linear_pred).T, test_y)\n",
    "print(\"MAE (linear SVR):\", svr_linear_mae)"
   ]
  },
  {
   "cell_type": "code",
   "execution_count": 8,
   "id": "97c4dc51",
   "metadata": {},
   "outputs": [
    {
     "name": "stdout",
     "output_type": "stream",
     "text": [
      "MAE (polynomial SVR): 0.03660828265112934\n"
     ]
    }
   ],
   "source": [
    "# Calculate Mean Absolute Error for polynomial SVR\n",
    "svr_polynomial_mae = Metrics.mae(np.array(svr_polynomial_pred).T, test_y)\n",
    "print(\"MAE (polynomial SVR):\", svr_polynomial_mae)"
   ]
  },
  {
   "cell_type": "code",
   "execution_count": 9,
   "id": "9ba9e6d4",
   "metadata": {},
   "outputs": [
    {
     "name": "stdout",
     "output_type": "stream",
     "text": [
      "MAE (polynomial SVR): 0.0425826670940302\n"
     ]
    }
   ],
   "source": [
    "# Calculate Mean Absolute Error for RBF SVR\n",
    "svr_rbf_mae = Metrics.mae(np.array(svr_rbf_pred).T, test_y)\n",
    "print(\"MAE (polynomial SVR):\", svr_rbf_mae)"
   ]
  }
 ],
 "metadata": {
  "kernelspec": {
   "display_name": "Python 3 (ipykernel)",
   "language": "python",
   "name": "python3"
  },
  "language_info": {
   "codemirror_mode": {
    "name": "ipython",
    "version": 3
   },
   "file_extension": ".py",
   "mimetype": "text/x-python",
   "name": "python",
   "nbconvert_exporter": "python",
   "pygments_lexer": "ipython3",
   "version": "3.9.7"
  }
 },
 "nbformat": 4,
 "nbformat_minor": 5
}
