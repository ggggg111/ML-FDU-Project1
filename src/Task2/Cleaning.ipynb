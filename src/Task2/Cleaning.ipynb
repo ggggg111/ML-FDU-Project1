{
 "cells": [
  {
   "cell_type": "code",
   "execution_count": 57,
   "metadata": {
    "collapsed": true
   },
   "outputs": [],
   "source": [
    "# import packages\n",
    "import pandas as pd\n",
    "import numpy as np\n",
    "import seaborn as sns\n",
    "\n",
    "import matplotlib.pyplot as plt\n",
    "import matplotlib.mlab as mlab\n",
    "import matplotlib\n",
    "plt.style.use('ggplot')\n",
    "from matplotlib.pyplot import figure\n",
    "\n",
    "import numpy as np"
   ]
  },
  {
   "cell_type": "code",
   "execution_count": 58,
   "outputs": [
    {
     "data": {
      "text/plain": "array([[1.27939   , 1.267405  , 1.282225  , ..., 0.4671733 , 0.4585072 ,\n        0.4520829 ],\n       [0.9580483 , 0.9615817 , 0.9592165 , ..., 0.5075568 , 0.4975058 ,\n        0.489206  ],\n       [0.0743765 , 0.07418461, 0.07385953, ..., 0.4882915 , 0.4800895 ,\n        0.4715911 ],\n       ...,\n       [0.0998192 , 0.09739292, 0.09596694, ..., 0.4713149 , 0.4614273 ,\n        0.4511245 ],\n       [0.9291    , 0.9260701 , 0.916962  , ..., 0.4364166 , 0.4281678 ,\n        0.4204932 ],\n       [1.104677  , 1.103811  , 1.087147  , ..., 0.5512056 , 0.5415871 ,\n        0.5323964 ]])"
     },
     "execution_count": 58,
     "metadata": {},
     "output_type": "execute_result"
    }
   ],
   "source": [
    "data = np.load(\"data/x_train_PE.npy\")\n",
    "\n",
    "data"
   ],
   "metadata": {
    "collapsed": false,
    "pycharm": {
     "name": "#%%\n"
    }
   }
  },
  {
   "cell_type": "code",
   "execution_count": 96,
   "outputs": [
    {
     "data": {
      "text/plain": "          0         1         2         3         4         5         6     \\\n0     1.279390  1.267405  1.282225  1.241084  1.247568  1.246006  1.224892   \n1     0.958048  0.961582  0.959217  0.946739  0.935498  0.933891  0.922936   \n2     0.074376  0.074185  0.073860  0.073371  0.073340  0.072980  0.073033   \n3     0.056779  0.055953  0.057491  0.057236  0.056457  0.056542  0.059735   \n4     0.595140  0.590033  0.585334  0.581023  0.580177  0.578045  0.574214   \n...        ...       ...       ...       ...       ...       ...       ...   \n2696  0.062668  0.061976  0.060519  0.061320  0.059626  0.059764  0.060929   \n2697  0.356057  0.356822  0.358486  0.358627  0.357216  0.355764  0.355222   \n2698  0.099819  0.097393  0.095967  0.095565  0.095114  0.093925  0.093741   \n2699  0.929100  0.926070  0.916962  0.914071  0.901547  0.894787  0.896415   \n2700  1.104677  1.103811  1.087147  1.085630  1.071456  1.062344  1.065253   \n\n          7         8         9     ...      1297      1298      1299  \\\n0     1.232453  1.211776  1.221036  ...  0.521902  0.514919  0.508209   \n1     0.904637  0.897806  0.900821  ...  0.556359  0.548280  0.541757   \n2     0.073735  0.073408  0.073079  ...  0.535685  0.528319  0.522003   \n3     0.060959  0.061010  0.061287  ...  0.537495  0.528814  0.521470   \n4     0.574444  0.567459  0.559738  ...  0.513998  0.506207  0.500041   \n...        ...       ...       ...  ...       ...       ...       ...   \n2696  0.059475  0.058904  0.057423  ...  0.432003  0.426467  0.420204   \n2697  0.355067  0.355338  0.355768  ...  0.520795  0.514514  0.507529   \n2698  0.093424  0.091927  0.090217  ...  0.521821  0.514204  0.507153   \n2699  0.885384  0.881454  0.875427  ...  0.487745  0.481565  0.475396   \n2700  1.057382  1.055819  1.044245  ...  0.596795  0.588389  0.581644   \n\n          1300      1301      1302      1303      1304      1305      1306  \n0     0.499449  0.489165  0.482237  0.474809  0.467173  0.458507  0.452083  \n1     0.535147  0.527020  0.520710  0.514169  0.507557  0.497506  0.489206  \n2     0.515008  0.506826  0.500475  0.494548  0.488291  0.480090  0.471591  \n3     0.513959  0.506184  0.499536  0.493021  0.485555  0.475227  0.464604  \n4     0.493465  0.485420  0.480532  0.475145  0.468415  0.458307  0.449852  \n...        ...       ...       ...       ...       ...       ...       ...  \n2696  0.411984  0.402670  0.394850  0.388406  0.381680  0.373725  0.365710  \n2697  0.498265  0.488527  0.480490  0.473315  0.466278  0.459129  0.452394  \n2698  0.499527  0.491080  0.484042  0.478106  0.471315  0.461427  0.451124  \n2699  0.467287  0.457655  0.449846  0.442978  0.436417  0.428168  0.420493  \n2700  0.575119  0.568041  0.562385  0.557157  0.551206  0.541587  0.532396  \n\n[2701 rows x 1307 columns]",
      "text/html": "<div>\n<style scoped>\n    .dataframe tbody tr th:only-of-type {\n        vertical-align: middle;\n    }\n\n    .dataframe tbody tr th {\n        vertical-align: top;\n    }\n\n    .dataframe thead th {\n        text-align: right;\n    }\n</style>\n<table border=\"1\" class=\"dataframe\">\n  <thead>\n    <tr style=\"text-align: right;\">\n      <th></th>\n      <th>0</th>\n      <th>1</th>\n      <th>2</th>\n      <th>3</th>\n      <th>4</th>\n      <th>5</th>\n      <th>6</th>\n      <th>7</th>\n      <th>8</th>\n      <th>9</th>\n      <th>...</th>\n      <th>1297</th>\n      <th>1298</th>\n      <th>1299</th>\n      <th>1300</th>\n      <th>1301</th>\n      <th>1302</th>\n      <th>1303</th>\n      <th>1304</th>\n      <th>1305</th>\n      <th>1306</th>\n    </tr>\n  </thead>\n  <tbody>\n    <tr>\n      <td>0</td>\n      <td>1.279390</td>\n      <td>1.267405</td>\n      <td>1.282225</td>\n      <td>1.241084</td>\n      <td>1.247568</td>\n      <td>1.246006</td>\n      <td>1.224892</td>\n      <td>1.232453</td>\n      <td>1.211776</td>\n      <td>1.221036</td>\n      <td>...</td>\n      <td>0.521902</td>\n      <td>0.514919</td>\n      <td>0.508209</td>\n      <td>0.499449</td>\n      <td>0.489165</td>\n      <td>0.482237</td>\n      <td>0.474809</td>\n      <td>0.467173</td>\n      <td>0.458507</td>\n      <td>0.452083</td>\n    </tr>\n    <tr>\n      <td>1</td>\n      <td>0.958048</td>\n      <td>0.961582</td>\n      <td>0.959217</td>\n      <td>0.946739</td>\n      <td>0.935498</td>\n      <td>0.933891</td>\n      <td>0.922936</td>\n      <td>0.904637</td>\n      <td>0.897806</td>\n      <td>0.900821</td>\n      <td>...</td>\n      <td>0.556359</td>\n      <td>0.548280</td>\n      <td>0.541757</td>\n      <td>0.535147</td>\n      <td>0.527020</td>\n      <td>0.520710</td>\n      <td>0.514169</td>\n      <td>0.507557</td>\n      <td>0.497506</td>\n      <td>0.489206</td>\n    </tr>\n    <tr>\n      <td>2</td>\n      <td>0.074376</td>\n      <td>0.074185</td>\n      <td>0.073860</td>\n      <td>0.073371</td>\n      <td>0.073340</td>\n      <td>0.072980</td>\n      <td>0.073033</td>\n      <td>0.073735</td>\n      <td>0.073408</td>\n      <td>0.073079</td>\n      <td>...</td>\n      <td>0.535685</td>\n      <td>0.528319</td>\n      <td>0.522003</td>\n      <td>0.515008</td>\n      <td>0.506826</td>\n      <td>0.500475</td>\n      <td>0.494548</td>\n      <td>0.488291</td>\n      <td>0.480090</td>\n      <td>0.471591</td>\n    </tr>\n    <tr>\n      <td>3</td>\n      <td>0.056779</td>\n      <td>0.055953</td>\n      <td>0.057491</td>\n      <td>0.057236</td>\n      <td>0.056457</td>\n      <td>0.056542</td>\n      <td>0.059735</td>\n      <td>0.060959</td>\n      <td>0.061010</td>\n      <td>0.061287</td>\n      <td>...</td>\n      <td>0.537495</td>\n      <td>0.528814</td>\n      <td>0.521470</td>\n      <td>0.513959</td>\n      <td>0.506184</td>\n      <td>0.499536</td>\n      <td>0.493021</td>\n      <td>0.485555</td>\n      <td>0.475227</td>\n      <td>0.464604</td>\n    </tr>\n    <tr>\n      <td>4</td>\n      <td>0.595140</td>\n      <td>0.590033</td>\n      <td>0.585334</td>\n      <td>0.581023</td>\n      <td>0.580177</td>\n      <td>0.578045</td>\n      <td>0.574214</td>\n      <td>0.574444</td>\n      <td>0.567459</td>\n      <td>0.559738</td>\n      <td>...</td>\n      <td>0.513998</td>\n      <td>0.506207</td>\n      <td>0.500041</td>\n      <td>0.493465</td>\n      <td>0.485420</td>\n      <td>0.480532</td>\n      <td>0.475145</td>\n      <td>0.468415</td>\n      <td>0.458307</td>\n      <td>0.449852</td>\n    </tr>\n    <tr>\n      <td>...</td>\n      <td>...</td>\n      <td>...</td>\n      <td>...</td>\n      <td>...</td>\n      <td>...</td>\n      <td>...</td>\n      <td>...</td>\n      <td>...</td>\n      <td>...</td>\n      <td>...</td>\n      <td>...</td>\n      <td>...</td>\n      <td>...</td>\n      <td>...</td>\n      <td>...</td>\n      <td>...</td>\n      <td>...</td>\n      <td>...</td>\n      <td>...</td>\n      <td>...</td>\n      <td>...</td>\n    </tr>\n    <tr>\n      <td>2696</td>\n      <td>0.062668</td>\n      <td>0.061976</td>\n      <td>0.060519</td>\n      <td>0.061320</td>\n      <td>0.059626</td>\n      <td>0.059764</td>\n      <td>0.060929</td>\n      <td>0.059475</td>\n      <td>0.058904</td>\n      <td>0.057423</td>\n      <td>...</td>\n      <td>0.432003</td>\n      <td>0.426467</td>\n      <td>0.420204</td>\n      <td>0.411984</td>\n      <td>0.402670</td>\n      <td>0.394850</td>\n      <td>0.388406</td>\n      <td>0.381680</td>\n      <td>0.373725</td>\n      <td>0.365710</td>\n    </tr>\n    <tr>\n      <td>2697</td>\n      <td>0.356057</td>\n      <td>0.356822</td>\n      <td>0.358486</td>\n      <td>0.358627</td>\n      <td>0.357216</td>\n      <td>0.355764</td>\n      <td>0.355222</td>\n      <td>0.355067</td>\n      <td>0.355338</td>\n      <td>0.355768</td>\n      <td>...</td>\n      <td>0.520795</td>\n      <td>0.514514</td>\n      <td>0.507529</td>\n      <td>0.498265</td>\n      <td>0.488527</td>\n      <td>0.480490</td>\n      <td>0.473315</td>\n      <td>0.466278</td>\n      <td>0.459129</td>\n      <td>0.452394</td>\n    </tr>\n    <tr>\n      <td>2698</td>\n      <td>0.099819</td>\n      <td>0.097393</td>\n      <td>0.095967</td>\n      <td>0.095565</td>\n      <td>0.095114</td>\n      <td>0.093925</td>\n      <td>0.093741</td>\n      <td>0.093424</td>\n      <td>0.091927</td>\n      <td>0.090217</td>\n      <td>...</td>\n      <td>0.521821</td>\n      <td>0.514204</td>\n      <td>0.507153</td>\n      <td>0.499527</td>\n      <td>0.491080</td>\n      <td>0.484042</td>\n      <td>0.478106</td>\n      <td>0.471315</td>\n      <td>0.461427</td>\n      <td>0.451124</td>\n    </tr>\n    <tr>\n      <td>2699</td>\n      <td>0.929100</td>\n      <td>0.926070</td>\n      <td>0.916962</td>\n      <td>0.914071</td>\n      <td>0.901547</td>\n      <td>0.894787</td>\n      <td>0.896415</td>\n      <td>0.885384</td>\n      <td>0.881454</td>\n      <td>0.875427</td>\n      <td>...</td>\n      <td>0.487745</td>\n      <td>0.481565</td>\n      <td>0.475396</td>\n      <td>0.467287</td>\n      <td>0.457655</td>\n      <td>0.449846</td>\n      <td>0.442978</td>\n      <td>0.436417</td>\n      <td>0.428168</td>\n      <td>0.420493</td>\n    </tr>\n    <tr>\n      <td>2700</td>\n      <td>1.104677</td>\n      <td>1.103811</td>\n      <td>1.087147</td>\n      <td>1.085630</td>\n      <td>1.071456</td>\n      <td>1.062344</td>\n      <td>1.065253</td>\n      <td>1.057382</td>\n      <td>1.055819</td>\n      <td>1.044245</td>\n      <td>...</td>\n      <td>0.596795</td>\n      <td>0.588389</td>\n      <td>0.581644</td>\n      <td>0.575119</td>\n      <td>0.568041</td>\n      <td>0.562385</td>\n      <td>0.557157</td>\n      <td>0.551206</td>\n      <td>0.541587</td>\n      <td>0.532396</td>\n    </tr>\n  </tbody>\n</table>\n<p>2701 rows × 1307 columns</p>\n</div>"
     },
     "execution_count": 96,
     "metadata": {},
     "output_type": "execute_result"
    }
   ],
   "source": [
    "#conver to pandas dataframe for easier processing\n",
    "df = pd.DataFrame(data=data)"
   ],
   "metadata": {
    "collapsed": false,
    "pycharm": {
     "name": "#%%\n"
    }
   }
  },
  {
   "cell_type": "code",
   "execution_count": 93,
   "outputs": [
    {
     "data": {
      "text/plain": "0"
     },
     "execution_count": 93,
     "metadata": {},
     "output_type": "execute_result"
    }
   ],
   "source": [
    "#check to see if any null value (missing value) is present or not\n",
    "df.isna().any().sum()"
   ],
   "metadata": {
    "collapsed": false,
    "pycharm": {
     "name": "#%%\n"
    }
   }
  },
  {
   "cell_type": "code",
   "execution_count": null,
   "outputs": [],
   "source": [
    "#check for missing data percentage list\n",
    "\n",
    "# if it's a larger dataset and the visualization takes too long can do this.\n",
    "# % of missing.\n",
    "for col in df.columns:\n",
    "    pct_missing = np.mean(df[col].isnull())\n",
    "    print('{} - {}%'.format(col, round(pct_missing*100)))"
   ],
   "metadata": {
    "collapsed": false,
    "pycharm": {
     "name": "#%%\n"
    }
   }
  },
  {
   "cell_type": "code",
   "execution_count": 99,
   "outputs": [
    {
     "data": {
      "text/plain": "<AxesSubplot:>"
     },
     "execution_count": 99,
     "metadata": {},
     "output_type": "execute_result"
    },
    {
     "data": {
      "text/plain": "<Figure size 432x288 with 2 Axes>",
      "image/png": "[encoded data removed]"
     },
     "metadata": {},
     "output_type": "display_data"
    }
   ],
   "source": [
    "#missing value visualisation via a heatmap\n",
    "cols = df.columns[:] # all columns\n",
    "colours = ['#000099', '#ffff00'] # specify the colours - yellow is missing. blue is not missing.\n",
    "sns.heatmap(df[cols].isnull(), cmap=sns.color_palette(colours))"
   ],
   "metadata": {
    "collapsed": false,
    "pycharm": {
     "name": "#%%\n"
    }
   }
  },
  {
   "cell_type": "code",
   "execution_count": 62,
   "outputs": [
    {
     "data": {
      "text/plain": "              0            1            2            3            4     \\\ncount  2701.000000  2701.000000  2701.000000  2701.000000  2701.000000   \nmean      0.486911     0.484209     0.481926     0.478861     0.475469   \nstd       0.387901     0.386007     0.384594     0.382030     0.379268   \nmin      -0.040721    -0.041661    -0.042275    -0.039559    -0.038009   \n25%       0.100209     0.099578     0.099035     0.098354     0.097260   \n50%       0.401253     0.399797     0.399640     0.397259     0.395424   \n75%       0.858057     0.852750     0.849317     0.844252     0.836584   \nmax       1.727237     1.778611     1.813358     1.786360     1.762457   \n\n              5            6            7            8            9     ...  \\\ncount  2701.000000  2701.000000  2701.000000  2701.000000  2701.000000  ...   \nmean      0.472291     0.469125     0.466807     0.463857     0.460701  ...   \nstd       0.376791     0.374350     0.372930     0.370621     0.368174  ...   \nmin      -0.039605    -0.040357    -0.040950    -0.042185    -0.042487  ...   \n25%       0.096607     0.095739     0.094947     0.094195     0.094148  ...   \n50%       0.393446     0.393150     0.392495     0.389571     0.386606  ...   \n75%       0.830412     0.825047     0.820500     0.818148     0.810873  ...   \nmax       1.758758     1.825955     1.840741     1.750945     1.746814  ...   \n\n              1297         1298         1299         1300         1301  \\\ncount  2701.000000  2701.000000  2701.000000  2701.000000  2701.000000   \nmean      0.499078     0.492295     0.485996     0.478301     0.469293   \nstd       0.068648     0.067757     0.067466     0.067840     0.068635   \nmin       0.233237     0.228460     0.223749     0.217240     0.209317   \n25%       0.453627     0.447420     0.441400     0.434172     0.424362   \n50%       0.507181     0.500194     0.494015     0.486240     0.477354   \n75%       0.544881     0.537327     0.530680     0.523315     0.515032   \nmax       0.806535     0.798153     0.791324     0.783994     0.776697   \n\n              1302         1303         1304         1305         1306  \ncount  2701.000000  2701.000000  2701.000000  2701.000000  2701.000000  \nmean      0.462430     0.456109     0.449370     0.440387     0.432059  \nstd       0.069262     0.069516     0.069379     0.068650     0.067693  \nmin       0.203291     0.198344     0.193073     0.186810     0.180821  \n25%       0.417415     0.411425     0.404585     0.396238     0.388446  \n50%       0.470730     0.464319     0.457212     0.448169     0.439862  \n75%       0.508826     0.502604     0.495708     0.486037     0.475972  \nmax       0.771133     0.765324     0.758331     0.748799     0.739110  \n\n[8 rows x 1307 columns]",
      "text/html": "<div>\n<style scoped>\n    .dataframe tbody tr th:only-of-type {\n        vertical-align: middle;\n    }\n\n    .dataframe tbody tr th {\n        vertical-align: top;\n    }\n\n    .dataframe thead th {\n        text-align: right;\n    }\n</style>\n<table border=\"1\" class=\"dataframe\">\n  <thead>\n    <tr style=\"text-align: right;\">\n      <th></th>\n      <th>0</th>\n      <th>1</th>\n      <th>2</th>\n      <th>3</th>\n      <th>4</th>\n      <th>5</th>\n      <th>6</th>\n      <th>7</th>\n      <th>8</th>\n      <th>9</th>\n      <th>...</th>\n      <th>1297</th>\n      <th>1298</th>\n      <th>1299</th>\n      <th>1300</th>\n      <th>1301</th>\n      <th>1302</th>\n      <th>1303</th>\n      <th>1304</th>\n      <th>1305</th>\n      <th>1306</th>\n    </tr>\n  </thead>\n  <tbody>\n    <tr>\n      <td>count</td>\n      <td>2701.000000</td>\n      <td>2701.000000</td>\n      <td>2701.000000</td>\n      <td>2701.000000</td>\n      <td>2701.000000</td>\n      <td>2701.000000</td>\n      <td>2701.000000</td>\n      <td>2701.000000</td>\n      <td>2701.000000</td>\n      <td>2701.000000</td>\n      <td>...</td>\n      <td>2701.000000</td>\n      <td>2701.000000</td>\n      <td>2701.000000</td>\n      <td>2701.000000</td>\n      <td>2701.000000</td>\n      <td>2701.000000</td>\n      <td>2701.000000</td>\n      <td>2701.000000</td>\n      <td>2701.000000</td>\n      <td>2701.000000</td>\n    </tr>\n    <tr>\n      <td>mean</td>\n      <td>0.486911</td>\n      <td>0.484209</td>\n      <td>0.481926</td>\n      <td>0.478861</td>\n      <td>0.475469</td>\n      <td>0.472291</td>\n      <td>0.469125</td>\n      <td>0.466807</td>\n      <td>0.463857</td>\n      <td>0.460701</td>\n      <td>...</td>\n      <td>0.499078</td>\n      <td>0.492295</td>\n      <td>0.485996</td>\n      <td>0.478301</td>\n      <td>0.469293</td>\n      <td>0.462430</td>\n      <td>0.456109</td>\n      <td>0.449370</td>\n      <td>0.440387</td>\n      <td>0.432059</td>\n    </tr>\n    <tr>\n      <td>std</td>\n      <td>0.387901</td>\n      <td>0.386007</td>\n      <td>0.384594</td>\n      <td>0.382030</td>\n      <td>0.379268</td>\n      <td>0.376791</td>\n      <td>0.374350</td>\n      <td>0.372930</td>\n      <td>0.370621</td>\n      <td>0.368174</td>\n      <td>...</td>\n      <td>0.068648</td>\n      <td>0.067757</td>\n      <td>0.067466</td>\n      <td>0.067840</td>\n      <td>0.068635</td>\n      <td>0.069262</td>\n      <td>0.069516</td>\n      <td>0.069379</td>\n      <td>0.068650</td>\n      <td>0.067693</td>\n    </tr>\n    <tr>\n      <td>min</td>\n      <td>-0.040721</td>\n      <td>-0.041661</td>\n      <td>-0.042275</td>\n      <td>-0.039559</td>\n      <td>-0.038009</td>\n      <td>-0.039605</td>\n      <td>-0.040357</td>\n      <td>-0.040950</td>\n      <td>-0.042185</td>\n      <td>-0.042487</td>\n      <td>...</td>\n      <td>0.233237</td>\n      <td>0.228460</td>\n      <td>0.223749</td>\n      <td>0.217240</td>\n      <td>0.209317</td>\n      <td>0.203291</td>\n      <td>0.198344</td>\n      <td>0.193073</td>\n      <td>0.186810</td>\n      <td>0.180821</td>\n    </tr>\n    <tr>\n      <td>25%</td>\n      <td>0.100209</td>\n      <td>0.099578</td>\n      <td>0.099035</td>\n      <td>0.098354</td>\n      <td>0.097260</td>\n      <td>0.096607</td>\n      <td>0.095739</td>\n      <td>0.094947</td>\n      <td>0.094195</td>\n      <td>0.094148</td>\n      <td>...</td>\n      <td>0.453627</td>\n      <td>0.447420</td>\n      <td>0.441400</td>\n      <td>0.434172</td>\n      <td>0.424362</td>\n      <td>0.417415</td>\n      <td>0.411425</td>\n      <td>0.404585</td>\n      <td>0.396238</td>\n      <td>0.388446</td>\n    </tr>\n    <tr>\n      <td>50%</td>\n      <td>0.401253</td>\n      <td>0.399797</td>\n      <td>0.399640</td>\n      <td>0.397259</td>\n      <td>0.395424</td>\n      <td>0.393446</td>\n      <td>0.393150</td>\n      <td>0.392495</td>\n      <td>0.389571</td>\n      <td>0.386606</td>\n      <td>...</td>\n      <td>0.507181</td>\n      <td>0.500194</td>\n      <td>0.494015</td>\n      <td>0.486240</td>\n      <td>0.477354</td>\n      <td>0.470730</td>\n      <td>0.464319</td>\n      <td>0.457212</td>\n      <td>0.448169</td>\n      <td>0.439862</td>\n    </tr>\n    <tr>\n      <td>75%</td>\n      <td>0.858057</td>\n      <td>0.852750</td>\n      <td>0.849317</td>\n      <td>0.844252</td>\n      <td>0.836584</td>\n      <td>0.830412</td>\n      <td>0.825047</td>\n      <td>0.820500</td>\n      <td>0.818148</td>\n      <td>0.810873</td>\n      <td>...</td>\n      <td>0.544881</td>\n      <td>0.537327</td>\n      <td>0.530680</td>\n      <td>0.523315</td>\n      <td>0.515032</td>\n      <td>0.508826</td>\n      <td>0.502604</td>\n      <td>0.495708</td>\n      <td>0.486037</td>\n      <td>0.475972</td>\n    </tr>\n    <tr>\n      <td>max</td>\n      <td>1.727237</td>\n      <td>1.778611</td>\n      <td>1.813358</td>\n      <td>1.786360</td>\n      <td>1.762457</td>\n      <td>1.758758</td>\n      <td>1.825955</td>\n      <td>1.840741</td>\n      <td>1.750945</td>\n      <td>1.746814</td>\n      <td>...</td>\n      <td>0.806535</td>\n      <td>0.798153</td>\n      <td>0.791324</td>\n      <td>0.783994</td>\n      <td>0.776697</td>\n      <td>0.771133</td>\n      <td>0.765324</td>\n      <td>0.758331</td>\n      <td>0.748799</td>\n      <td>0.739110</td>\n    </tr>\n  </tbody>\n</table>\n<p>8 rows × 1307 columns</p>\n</div>"
     },
     "execution_count": 62,
     "metadata": {},
     "output_type": "execute_result"
    }
   ],
   "source": [
    "df.describe()"
   ],
   "metadata": {
    "collapsed": false,
    "pycharm": {
     "name": "#%%\n"
    }
   }
  },
  {
   "cell_type": "code",
   "execution_count": 94,
   "outputs": [
    {
     "data": {
      "text/plain": "0       False\n1       False\n2       False\n3       False\n4       False\n        ...  \n2696    False\n2697    False\n2698    False\n2699    False\n2700    False\nLength: 2698, dtype: bool"
     },
     "execution_count": 94,
     "metadata": {},
     "output_type": "execute_result"
    }
   ],
   "source": [
    "#de-duplicate by showing bool values of each entry\n",
    "df.duplicated()"
   ],
   "metadata": {
    "collapsed": false,
    "pycharm": {
     "name": "#%%\n"
    }
   }
  },
  {
   "cell_type": "code",
   "execution_count": 63,
   "outputs": [
    {
     "name": "stdout",
     "output_type": "stream",
     "text": [
      "0       0.757848\n",
      "1       0.753172\n",
      "2       0.750281\n",
      "3       0.745897\n",
      "4       0.739324\n",
      "          ...   \n",
      "1302    0.091411\n",
      "1303    0.091179\n",
      "1304    0.091124\n",
      "1305    0.089798\n",
      "1306    0.087526\n",
      "Length: 1307, dtype: float64\n"
     ]
    }
   ],
   "source": [
    "Q1 = df.quantile(0.25)\n",
    "Q3 = df.quantile(0.75)\n",
    "IQR = Q3 - Q1\n",
    "print(IQR)"
   ],
   "metadata": {
    "collapsed": false,
    "pycharm": {
     "name": "#%%\n"
    }
   }
  },
  {
   "cell_type": "code",
   "execution_count": 86,
   "outputs": [
    {
     "data": {
      "text/plain": "          0         1         2         3         4         5         6     \\\n0     1.279390  1.267405  1.282225  1.241084  1.247568  1.246006  1.224892   \n1     0.958048  0.961582  0.959217  0.946739  0.935498  0.933891  0.922936   \n2     0.074376  0.074185  0.073860  0.073371  0.073340  0.072980  0.073033   \n3     0.056779  0.055953  0.057491  0.057236  0.056457  0.056542  0.059735   \n5     0.078984  0.077670  0.077800  0.078090  0.077203  0.076120  0.075692   \n...        ...       ...       ...       ...       ...       ...       ...   \n2694  0.589686  0.578444  0.580257  0.578834  0.578500  0.573227  0.566762   \n2696  0.062668  0.061976  0.060519  0.061320  0.059626  0.059764  0.060929   \n2698  0.099819  0.097393  0.095967  0.095565  0.095114  0.093925  0.093741   \n2699  0.929100  0.926070  0.916962  0.914071  0.901547  0.894787  0.896415   \n2700  1.104677  1.103811  1.087147  1.085630  1.071456  1.062344  1.065253   \n\n          7         8         9     ...      1297      1298      1299  \\\n0     1.232453  1.211776  1.221036  ...  0.521902  0.514919  0.508209   \n1     0.904637  0.897806  0.900821  ...  0.556359  0.548280  0.541757   \n2     0.073735  0.073408  0.073079  ...  0.535685  0.528319  0.522003   \n3     0.060959  0.061010  0.061287  ...  0.537495  0.528814  0.521470   \n5     0.076673  0.077882  0.079202  ...  0.492320  0.484293  0.477083   \n...        ...       ...       ...  ...       ...       ...       ...   \n2694  0.563218  0.558900  0.555966  ...  0.488963  0.483630  0.476170   \n2696  0.059475  0.058904  0.057423  ...  0.432003  0.426467  0.420204   \n2698  0.093424  0.091927  0.090217  ...  0.521821  0.514204  0.507153   \n2699  0.885384  0.881454  0.875427  ...  0.487745  0.481565  0.475396   \n2700  1.057382  1.055819  1.044245  ...  0.596795  0.588389  0.581644   \n\n          1300      1301      1302      1303      1304      1305      1306  \n0     0.499449  0.489165  0.482237  0.474809  0.467173  0.458507  0.452083  \n1     0.535147  0.527020  0.520710  0.514169  0.507557  0.497506  0.489206  \n2     0.515008  0.506826  0.500475  0.494548  0.488291  0.480090  0.471591  \n3     0.513959  0.506184  0.499536  0.493021  0.485555  0.475227  0.464604  \n5     0.469547  0.461709  0.455310  0.448759  0.441459  0.431740  0.421975  \n...        ...       ...       ...       ...       ...       ...       ...  \n2694  0.465966  0.454470  0.445583  0.435314  0.426025  0.415871  0.408289  \n2696  0.411984  0.402670  0.394850  0.388406  0.381680  0.373725  0.365710  \n2698  0.499527  0.491080  0.484042  0.478106  0.471315  0.461427  0.451124  \n2699  0.467287  0.457655  0.449846  0.442978  0.436417  0.428168  0.420493  \n2700  0.575119  0.568041  0.562385  0.557157  0.551206  0.541587  0.532396  \n\n[2177 rows x 1307 columns]",
      "text/html": "<div>\n<style scoped>\n    .dataframe tbody tr th:only-of-type {\n        vertical-align: middle;\n    }\n\n    .dataframe tbody tr th {\n        vertical-align: top;\n    }\n\n    .dataframe thead th {\n        text-align: right;\n    }\n</style>\n<table border=\"1\" class=\"dataframe\">\n  <thead>\n    <tr style=\"text-align: right;\">\n      <th></th>\n      <th>0</th>\n      <th>1</th>\n      <th>2</th>\n      <th>3</th>\n      <th>4</th>\n      <th>5</th>\n      <th>6</th>\n      <th>7</th>\n      <th>8</th>\n      <th>9</th>\n      <th>...</th>\n      <th>1297</th>\n      <th>1298</th>\n      <th>1299</th>\n      <th>1300</th>\n      <th>1301</th>\n      <th>1302</th>\n      <th>1303</th>\n      <th>1304</th>\n      <th>1305</th>\n      <th>1306</th>\n    </tr>\n  </thead>\n  <tbody>\n    <tr>\n      <td>0</td>\n      <td>1.279390</td>\n      <td>1.267405</td>\n      <td>1.282225</td>\n      <td>1.241084</td>\n      <td>1.247568</td>\n      <td>1.246006</td>\n      <td>1.224892</td>\n      <td>1.232453</td>\n      <td>1.211776</td>\n      <td>1.221036</td>\n      <td>...</td>\n      <td>0.521902</td>\n      <td>0.514919</td>\n      <td>0.508209</td>\n      <td>0.499449</td>\n      <td>0.489165</td>\n      <td>0.482237</td>\n      <td>0.474809</td>\n      <td>0.467173</td>\n      <td>0.458507</td>\n      <td>0.452083</td>\n    </tr>\n    <tr>\n      <td>1</td>\n      <td>0.958048</td>\n      <td>0.961582</td>\n      <td>0.959217</td>\n      <td>0.946739</td>\n      <td>0.935498</td>\n      <td>0.933891</td>\n      <td>0.922936</td>\n      <td>0.904637</td>\n      <td>0.897806</td>\n      <td>0.900821</td>\n      <td>...</td>\n      <td>0.556359</td>\n      <td>0.548280</td>\n      <td>0.541757</td>\n      <td>0.535147</td>\n      <td>0.527020</td>\n      <td>0.520710</td>\n      <td>0.514169</td>\n      <td>0.507557</td>\n      <td>0.497506</td>\n      <td>0.489206</td>\n    </tr>\n    <tr>\n      <td>2</td>\n      <td>0.074376</td>\n      <td>0.074185</td>\n      <td>0.073860</td>\n      <td>0.073371</td>\n      <td>0.073340</td>\n      <td>0.072980</td>\n      <td>0.073033</td>\n      <td>0.073735</td>\n      <td>0.073408</td>\n      <td>0.073079</td>\n      <td>...</td>\n      <td>0.535685</td>\n      <td>0.528319</td>\n      <td>0.522003</td>\n      <td>0.515008</td>\n      <td>0.506826</td>\n      <td>0.500475</td>\n      <td>0.494548</td>\n      <td>0.488291</td>\n      <td>0.480090</td>\n      <td>0.471591</td>\n    </tr>\n    <tr>\n      <td>3</td>\n      <td>0.056779</td>\n      <td>0.055953</td>\n      <td>0.057491</td>\n      <td>0.057236</td>\n      <td>0.056457</td>\n      <td>0.056542</td>\n      <td>0.059735</td>\n      <td>0.060959</td>\n      <td>0.061010</td>\n      <td>0.061287</td>\n      <td>...</td>\n      <td>0.537495</td>\n      <td>0.528814</td>\n      <td>0.521470</td>\n      <td>0.513959</td>\n      <td>0.506184</td>\n      <td>0.499536</td>\n      <td>0.493021</td>\n      <td>0.485555</td>\n      <td>0.475227</td>\n      <td>0.464604</td>\n    </tr>\n    <tr>\n      <td>5</td>\n      <td>0.078984</td>\n      <td>0.077670</td>\n      <td>0.077800</td>\n      <td>0.078090</td>\n      <td>0.077203</td>\n      <td>0.076120</td>\n      <td>0.075692</td>\n      <td>0.076673</td>\n      <td>0.077882</td>\n      <td>0.079202</td>\n      <td>...</td>\n      <td>0.492320</td>\n      <td>0.484293</td>\n      <td>0.477083</td>\n      <td>0.469547</td>\n      <td>0.461709</td>\n      <td>0.455310</td>\n      <td>0.448759</td>\n      <td>0.441459</td>\n      <td>0.431740</td>\n      <td>0.421975</td>\n    </tr>\n    <tr>\n      <td>...</td>\n      <td>...</td>\n      <td>...</td>\n      <td>...</td>\n      <td>...</td>\n      <td>...</td>\n      <td>...</td>\n      <td>...</td>\n      <td>...</td>\n      <td>...</td>\n      <td>...</td>\n      <td>...</td>\n      <td>...</td>\n      <td>...</td>\n      <td>...</td>\n      <td>...</td>\n      <td>...</td>\n      <td>...</td>\n      <td>...</td>\n      <td>...</td>\n      <td>...</td>\n      <td>...</td>\n    </tr>\n    <tr>\n      <td>2694</td>\n      <td>0.589686</td>\n      <td>0.578444</td>\n      <td>0.580257</td>\n      <td>0.578834</td>\n      <td>0.578500</td>\n      <td>0.573227</td>\n      <td>0.566762</td>\n      <td>0.563218</td>\n      <td>0.558900</td>\n      <td>0.555966</td>\n      <td>...</td>\n      <td>0.488963</td>\n      <td>0.483630</td>\n      <td>0.476170</td>\n      <td>0.465966</td>\n      <td>0.454470</td>\n      <td>0.445583</td>\n      <td>0.435314</td>\n      <td>0.426025</td>\n      <td>0.415871</td>\n      <td>0.408289</td>\n    </tr>\n    <tr>\n      <td>2696</td>\n      <td>0.062668</td>\n      <td>0.061976</td>\n      <td>0.060519</td>\n      <td>0.061320</td>\n      <td>0.059626</td>\n      <td>0.059764</td>\n      <td>0.060929</td>\n      <td>0.059475</td>\n      <td>0.058904</td>\n      <td>0.057423</td>\n      <td>...</td>\n      <td>0.432003</td>\n      <td>0.426467</td>\n      <td>0.420204</td>\n      <td>0.411984</td>\n      <td>0.402670</td>\n      <td>0.394850</td>\n      <td>0.388406</td>\n      <td>0.381680</td>\n      <td>0.373725</td>\n      <td>0.365710</td>\n    </tr>\n    <tr>\n      <td>2698</td>\n      <td>0.099819</td>\n      <td>0.097393</td>\n      <td>0.095967</td>\n      <td>0.095565</td>\n      <td>0.095114</td>\n      <td>0.093925</td>\n      <td>0.093741</td>\n      <td>0.093424</td>\n      <td>0.091927</td>\n      <td>0.090217</td>\n      <td>...</td>\n      <td>0.521821</td>\n      <td>0.514204</td>\n      <td>0.507153</td>\n      <td>0.499527</td>\n      <td>0.491080</td>\n      <td>0.484042</td>\n      <td>0.478106</td>\n      <td>0.471315</td>\n      <td>0.461427</td>\n      <td>0.451124</td>\n    </tr>\n    <tr>\n      <td>2699</td>\n      <td>0.929100</td>\n      <td>0.926070</td>\n      <td>0.916962</td>\n      <td>0.914071</td>\n      <td>0.901547</td>\n      <td>0.894787</td>\n      <td>0.896415</td>\n      <td>0.885384</td>\n      <td>0.881454</td>\n      <td>0.875427</td>\n      <td>...</td>\n      <td>0.487745</td>\n      <td>0.481565</td>\n      <td>0.475396</td>\n      <td>0.467287</td>\n      <td>0.457655</td>\n      <td>0.449846</td>\n      <td>0.442978</td>\n      <td>0.436417</td>\n      <td>0.428168</td>\n      <td>0.420493</td>\n    </tr>\n    <tr>\n      <td>2700</td>\n      <td>1.104677</td>\n      <td>1.103811</td>\n      <td>1.087147</td>\n      <td>1.085630</td>\n      <td>1.071456</td>\n      <td>1.062344</td>\n      <td>1.065253</td>\n      <td>1.057382</td>\n      <td>1.055819</td>\n      <td>1.044245</td>\n      <td>...</td>\n      <td>0.596795</td>\n      <td>0.588389</td>\n      <td>0.581644</td>\n      <td>0.575119</td>\n      <td>0.568041</td>\n      <td>0.562385</td>\n      <td>0.557157</td>\n      <td>0.551206</td>\n      <td>0.541587</td>\n      <td>0.532396</td>\n    </tr>\n  </tbody>\n</table>\n<p>2177 rows × 1307 columns</p>\n</div>"
     },
     "execution_count": 86,
     "metadata": {},
     "output_type": "execute_result"
    }
   ],
   "source": [
    "#delete outliers over the Q1 and Q3 quartile\n",
    "Q1 = df.quantile(0.25)\n",
    "Q3 = df.quantile(0.75)\n",
    "IQR = Q3 - Q1\n",
    "\n",
    "df1 = df[~((df < (Q1 - 1.5 * IQR)) |(df > (Q3 + 1.5 * IQR))).any(axis=1)]"
   ],
   "metadata": {
    "collapsed": false,
    "pycharm": {
     "name": "#%%\n"
    }
   }
  },
  {
   "cell_type": "code",
   "execution_count": 74,
   "outputs": [],
   "source": [
    "#convert to np array\n",
    "arr = df1.to_numpy()\n",
    "#export to update .npy file\n",
    "np.save('cleanData_X_train.npy',arr)"
   ],
   "metadata": {
    "collapsed": false,
    "pycharm": {
     "name": "#%%\n"
    }
   }
  },
  {
   "cell_type": "code",
   "execution_count": 75,
   "outputs": [],
   "source": [
    "#delete the same entries on y_train\n",
    "\n",
    "#find the uncommon rows\n",
    "deletedDF_X = pd.concat([df1,df]).drop_duplicates(keep=False)\n",
    "\n",
    "#load y_train\n",
    "df_y = pd.DataFrame(np.load(\"data/y_train_PE.npy\"))\n",
    "\n",
    "#delete the same indices\n",
    "df_y_1 = df_y.drop(deletedDF_X.index)\n",
    "\n",
    "#convert to np array\n",
    "arr_y = df_y_1.to_numpy()\n",
    "\n",
    "#export to update .npy file\n",
    "np.save('cleanData_y_train.npy',arr_y)"
   ],
   "metadata": {
    "collapsed": false,
    "pycharm": {
     "name": "#%%\n"
    }
   }
  },
  {
   "cell_type": "code",
   "execution_count": null,
   "outputs": [],
   "source": [
    "#MAE results with the new data\n",
    "#Regression-SVR:\n",
    "# MAE (linear SVR): 0.04055003126386823\n",
    "# MAE (polynomial SVR): 0.04571083752006807\n",
    "# MAE (RBF SVR): 0.054837128120297604\n",
    "\n",
    "#Regression-MLPNN-Preprocessed:\n",
    "# MAE: 0.11466726668029142"
   ],
   "metadata": {
    "collapsed": false,
    "pycharm": {
     "name": "#%%\n"
    }
   }
  }
 ],
 "metadata": {
  "kernelspec": {
   "display_name": "Python 3",
   "language": "python",
   "name": "python3"
  },
  "language_info": {
   "codemirror_mode": {
    "name": "ipython",
    "version": 2
   },
   "file_extension": ".py",
   "mimetype": "text/x-python",
   "name": "python",
   "nbconvert_exporter": "python",
   "pygments_lexer": "ipython2",
   "version": "2.7.6"
  }
 },
 "nbformat": 4,
 "nbformat_minor": 0
}