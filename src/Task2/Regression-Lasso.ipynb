{
 "cells": [
  {
   "cell_type": "code",
   "execution_count": 1,
   "id": "dbe7fdb6",
   "metadata": {},
   "outputs": [],
   "source": [
    "# Import libraries\n",
    "import numpy as np\n",
    "from sklearn.linear_model import Lasso\n",
    "from sklearn.multioutput import MultiOutputRegressor"
   ]
  },
  {
   "cell_type": "code",
   "execution_count": 2,
   "id": "6080dec7",
   "metadata": {},
   "outputs": [],
   "source": [
    "# Load dataset separately\n",
    "train_X = np.load(\"workdir/x_train_PE.npy\")\n",
    "train_y = np.load(\"workdir/y_train_PE.npy\")\n",
    "\n",
    "test_X = np.load(\"workdir/x_test_PE.npy\")\n",
    "test_y = np.load(\"workdir/y_test_PE.npy\")"
   ]
  },
  {
   "cell_type": "code",
   "execution_count": 3,
   "id": "7c5e77da",
   "metadata": {},
   "outputs": [],
   "source": [
    "# The metric for this task is Mean Absolute Error\n",
    "class Metrics:\n",
    "    @staticmethod\n",
    "    def mae(y_pred, y_true):\n",
    "        return np.mean( np.abs( np.subtract(y_pred, y_true) ) )"
   ]
  },
  {
   "cell_type": "code",
   "execution_count": 4,
   "id": "f447504c",
   "metadata": {},
   "outputs": [],
   "source": [
    "# Declare a multi-class regressor using lasso regression\n",
    "regressor = MultiOutputRegressor( Lasso(alpha=0.1) )"
   ]
  },
  {
   "cell_type": "code",
   "execution_count": 5,
   "id": "39ea512c",
   "metadata": {},
   "outputs": [
    {
     "data": {
      "text/plain": [
       "MultiOutputRegressor(estimator=Lasso(alpha=0.1))"
      ]
     },
     "execution_count": 5,
     "metadata": {},
     "output_type": "execute_result"
    }
   ],
   "source": [
    "# Train the regressor\n",
    "regressor.fit(train_X, train_y)"
   ]
  },
  {
   "cell_type": "code",
   "execution_count": 6,
   "id": "5b23ecfb",
   "metadata": {},
   "outputs": [],
   "source": [
    "# Get the predictions\n",
    "predictions = regressor.predict(test_X)"
   ]
  },
  {
   "cell_type": "code",
   "execution_count": 7,
   "id": "c47821b9",
   "metadata": {},
   "outputs": [
    {
     "name": "stdout",
     "output_type": "stream",
     "text": [
      "MAE: 0.17037030608869388\n"
     ]
    }
   ],
   "source": [
    "# Calculate Mean Absolute Error\n",
    "mae = Metrics.mae(np.array(predictions), test_y)\n",
    "print(\"MAE:\", mae)"
   ]
  }
 ],
 "metadata": {
  "kernelspec": {
   "display_name": "Python 3 (ipykernel)",
   "language": "python",
   "name": "python3"
  },
  "language_info": {
   "codemirror_mode": {
    "name": "ipython",
    "version": 3
   },
   "file_extension": ".py",
   "mimetype": "text/x-python",
   "name": "python",
   "nbconvert_exporter": "python",
   "pygments_lexer": "ipython3",
   "version": "3.7.11"
  }
 },
 "nbformat": 4,
 "nbformat_minor": 5
}
