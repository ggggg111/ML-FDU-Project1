{
 "cells": [
  {
   "cell_type": "code",
   "execution_count": 1,
   "id": "dbe7fdb6",
   "metadata": {},
   "outputs": [],
   "source": [
    "# Import libraries\n",
    "import numpy as np\n",
    "import pandas as pd\n",
    "import torch\n",
    "from torch import nn\n",
    "from torch.utils.data import DataLoader\n",
    "from torch.utils.data import TensorDataset"
   ]
  },
  {
   "cell_type": "code",
   "execution_count": 2,
   "id": "120658b2",
   "metadata": {},
   "outputs": [],
   "source": [
    "# Define util to load .npy files\n",
    "def npy_to_tensor(path):\n",
    "    return torch.from_numpy( np.load(path) )"
   ]
  },
  {
   "cell_type": "code",
   "execution_count": 3,
   "id": "6080dec7",
   "metadata": {},
   "outputs": [],
   "source": [
    "# Load dataset separately\n",
    "train_X = npy_to_tensor(\"workdir/x_train_PE.npy\")\n",
    "train_y = npy_to_tensor(\"workdir/y_train_PE.npy\")\n",
    "\n",
    "test_X = npy_to_tensor(\"workdir/x_test_PE.npy\")\n",
    "test_y = npy_to_tensor(\"workdir/y_test_PE.npy\")"
   ]
  },
  {
   "cell_type": "code",
   "execution_count": 4,
   "id": "bbf6c41d",
   "metadata": {},
   "outputs": [],
   "source": [
    "# Join features and targets into one tensor dataset\n",
    "train = TensorDataset(train_X, train_y)\n",
    "test = TensorDataset(test_X, test_y)"
   ]
  },
  {
   "cell_type": "code",
   "execution_count": 5,
   "id": "0c7ae921",
   "metadata": {},
   "outputs": [],
   "source": [
    "# Create data loader for both training and testing data\n",
    "train_dataloader = DataLoader(train)\n",
    "test_dataloader = DataLoader(test)"
   ]
  },
  {
   "cell_type": "code",
   "execution_count": 11,
   "id": "c69b1c03",
   "metadata": {},
   "outputs": [],
   "source": [
    "# Note: the data loaders are ready to be used. We can also specify the batch size either in the DataLoader(.) function parameters or by splitting the data"
   ]
  },
  {
   "cell_type": "code",
   "execution_count": null,
   "id": "de25e48f",
   "metadata": {},
   "outputs": [],
   "source": []
  }
 ],
 "metadata": {
  "kernelspec": {
   "display_name": "Python 3 (ipykernel)",
   "language": "python",
   "name": "python3"
  },
  "language_info": {
   "codemirror_mode": {
    "name": "ipython",
    "version": 3
   },
   "file_extension": ".py",
   "mimetype": "text/x-python",
   "name": "python",
   "nbconvert_exporter": "python",
   "pygments_lexer": "ipython3",
   "version": "3.7.11"
  }
 },
 "nbformat": 4,
 "nbformat_minor": 5
}
