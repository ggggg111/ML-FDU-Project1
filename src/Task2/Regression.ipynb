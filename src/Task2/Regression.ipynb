{
 "cells": [
  {
   "cell_type": "code",
   "execution_count": 1,
   "id": "dbe7fdb6",
   "metadata": {},
   "outputs": [],
   "source": [
    "# Import libraries\n",
    "import numpy as np\n",
    "import torch\n",
    "from torch import nn\n",
    "from torch.utils.data import DataLoader\n",
    "from torch.utils.data import TensorDataset"
   ]
  },
  {
   "cell_type": "code",
   "execution_count": 2,
   "id": "120658b2",
   "metadata": {},
   "outputs": [],
   "source": [
    "# Define util to load .npy files\n",
    "class Utils:\n",
    "    @staticmethod\n",
    "    def npy_to_tensor(path):\n",
    "        return torch.from_numpy( np.load(path) )"
   ]
  },
  {
   "cell_type": "code",
   "execution_count": 3,
   "id": "6080dec7",
   "metadata": {},
   "outputs": [],
   "source": [
    "# Load dataset separately\n",
    "train_X = Utils.npy_to_tensor(\"workdir/x_train_PE.npy\")\n",
    "train_y = Utils.npy_to_tensor(\"workdir/y_train_PE.npy\")\n",
    "\n",
    "test_X = Utils.npy_to_tensor(\"workdir/x_test_PE.npy\")\n",
    "test_y = Utils.npy_to_tensor(\"workdir/y_test_PE.npy\")"
   ]
  },
  {
   "cell_type": "code",
   "execution_count": 4,
   "id": "bbf6c41d",
   "metadata": {},
   "outputs": [],
   "source": [
    "# Join features and targets into one tensor dataset\n",
    "train = TensorDataset(train_X, train_y)\n",
    "test = TensorDataset(test_X, test_y)"
   ]
  },
  {
   "cell_type": "code",
   "execution_count": 5,
   "id": "0c7ae921",
   "metadata": {},
   "outputs": [],
   "source": [
    "# Create data loader for both training and testing data\n",
    "train_dataloader = DataLoader(train, batch_size=64, shuffle=True)\n",
    "test_dataloader = DataLoader(test)"
   ]
  },
  {
   "cell_type": "code",
   "execution_count": 6,
   "id": "7c5e77da",
   "metadata": {},
   "outputs": [],
   "source": [
    "# The metric for this task is Mean Absolute Error\n",
    "class Metrics:\n",
    "    @staticmethod\n",
    "    def mae(y_pred, y_true):\n",
    "        return np.mean( np.abs( np.subtract(y_pred, y_true) ) )"
   ]
  },
  {
   "cell_type": "code",
   "execution_count": 7,
   "id": "de25e48f",
   "metadata": {},
   "outputs": [],
   "source": [
    "# Define our MLP-NN.\n",
    "# TODO: add constructor parameters of the ANN for more flexibility\n",
    "class MLPNN(nn.Module):\n",
    "    def __init__(self):\n",
    "        super(MLPNN, self).__init__()\n",
    "\n",
    "        self.layers = nn.Sequential(\n",
    "            nn.Linear(1307, 256),\n",
    "            nn.ReLU(),\n",
    "            nn.Linear(256, 128),\n",
    "            nn.ReLU(),\n",
    "            nn.Linear(128, 2),\n",
    "        )\n",
    "\n",
    "    def forward(self, x):\n",
    "        return self.layers(x)"
   ]
  },
  {
   "cell_type": "code",
   "execution_count": 8,
   "id": "88dcf942",
   "metadata": {},
   "outputs": [
    {
     "name": "stdout",
     "output_type": "stream",
     "text": [
      "MLPNN(\n",
      "  (layers): Sequential(\n",
      "    (0): Linear(in_features=1307, out_features=256, bias=True)\n",
      "    (1): ReLU()\n",
      "    (2): Linear(in_features=256, out_features=128, bias=True)\n",
      "    (3): ReLU()\n",
      "    (4): Linear(in_features=128, out_features=2, bias=True)\n",
      "  )\n",
      ")\n"
     ]
    }
   ],
   "source": [
    "# Declare our MLP-NN\n",
    "model = MLPNN()\n",
    "print(model)"
   ]
  },
  {
   "cell_type": "code",
   "execution_count": 9,
   "id": "4b8adf04",
   "metadata": {},
   "outputs": [],
   "source": [
    "# Select loss function (criterion) and optimizer\n",
    "criterion = nn.MSELoss()\n",
    "optimizer = torch.optim.Adam(model.parameters(), lr=0.0001)"
   ]
  },
  {
   "cell_type": "code",
   "execution_count": 10,
   "id": "c8007d8e",
   "metadata": {},
   "outputs": [],
   "source": [
    "# Train the model\n",
    "# TODO: Print epochs & loss\n",
    "for epoch in range(100):\n",
    "    train_loss = 0\n",
    "    for features, targets in train_dataloader:\n",
    "        optimizer.zero_grad()\n",
    "\n",
    "        predictions = model( features.float() )\n",
    "\n",
    "        loss = criterion( predictions.float(), targets.float() )\n",
    "        loss.backward()\n",
    "\n",
    "        optimizer.step()\n",
    "\n",
    "        train_loss += loss.item()"
   ]
  },
  {
   "cell_type": "code",
   "execution_count": 11,
   "id": "1f001376",
   "metadata": {},
   "outputs": [],
   "source": [
    "# Perform the predictions. Note: we convert the tensors to standard lists - it can be changed\n",
    "y_pred = []\n",
    "y_true = []\n",
    "with torch.no_grad():\n",
    "    for features, targets in test_dataloader:\n",
    "        predictions = model( features.float() )\n",
    "\n",
    "        y_pred.append( predictions.tolist() )\n",
    "        y_true.append( targets.tolist() )"
   ]
  },
  {
   "cell_type": "code",
   "execution_count": 12,
   "id": "c47821b9",
   "metadata": {},
   "outputs": [
    {
     "name": "stdout",
     "output_type": "stream",
     "text": [
      "MAE: 0.02847693890862211\n"
     ]
    }
   ],
   "source": [
    "# Calculate Mean Absolute Error\n",
    "mae = Metrics.mae(y_pred, y_true)\n",
    "print(\"MAE:\", mae)"
   ]
  },
  {
   "cell_type": "code",
   "execution_count": 13,
   "id": "2a70c573",
   "metadata": {},
   "outputs": [
    {
     "name": "stdout",
     "output_type": "stream",
     "text": [
      "Predictions: [[[0.745, 0.227]], [[0.326, 0.645]], [[0.632, 0.325]], [[0.835, 0.155]], [[0.482, 0.499]]]\n",
      "Ground truth: [[[0.776, 0.224]], [[0.324, 0.676]], [[0.682, 0.318]], [[0.851, 0.149]], [[0.5, 0.5]]]\n"
     ]
    }
   ],
   "source": [
    "# Just for comparing some values\n",
    "# TOREMOVE\n",
    "y_pred = np.around(y_pred, 3).tolist()\n",
    "print(\"Predictions:\", y_pred[:5])\n",
    "print(\"Ground truth:\", y_true[:5])"
   ]
  }
 ],
 "metadata": {
  "kernelspec": {
   "display_name": "Python 3 (ipykernel)",
   "language": "python",
   "name": "python3"
  },
  "language_info": {
   "codemirror_mode": {
    "name": "ipython",
    "version": 3
   },
   "file_extension": ".py",
   "mimetype": "text/x-python",
   "name": "python",
   "nbconvert_exporter": "python",
   "pygments_lexer": "ipython3",
   "version": "3.7.11"
  }
 },
 "nbformat": 4,
 "nbformat_minor": 5
}
